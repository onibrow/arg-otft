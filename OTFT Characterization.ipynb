{
 "cells": [
  {
   "cell_type": "markdown",
   "metadata": {},
   "source": [
    "# Arias Research Group - OTFT Characterization\n",
    "\n",
    "### Seiya Ono Sp '19"
   ]
  },
  {
   "cell_type": "code",
   "execution_count": 14,
   "metadata": {},
   "outputs": [],
   "source": [
    "import numpy as np\n",
    "import math\n",
    "import matplotlib.patches as mpatches\n",
    "import matplotlib.pyplot as plt\n",
    "import csv"
   ]
  },
  {
   "cell_type": "markdown",
   "metadata": {},
   "source": [
    "## Data Format\n",
    "\n",
    "The data extracted from the probes can be imported as a `.csv` file, with the following format:\n",
    "\n",
    "| Vd  | Vg  | Id  |\n",
    "| --- | --- | --- | \n",
    "| v_0 | v_0 | i_0 |\n",
    "| ... | ... | ... |\n",
    "\n",
    "| Vg  | Vd  | Id  |\n",
    "| --- | --- | --- | \n",
    "| v_0 | v_0 | i_0 |\n",
    "| ... | ... | ... |\n",
    "\n",
    "for $V_d$ and $V_g$ plots respectively."
   ]
  },
  {
   "cell_type": "code",
   "execution_count": 34,
   "metadata": {},
   "outputs": [
    {
     "name": "stdout",
     "output_type": "stream",
     "text": [
      "Found 2 sets of data.\n"
     ]
    }
   ],
   "source": [
    "file_name = \"data/idvg/Ntype- IdVg-Device 1.csv\"\n",
    "try:\n",
    "    data_file   = open(file_name, 'r')\n",
    "    data_reader = csv.reader(data_file)\n",
    "except FileNotFoundError:\n",
    "    raise FileNotFoundError(\"The file\", file_name, \"could not be found.\")\n",
    "set_rows = []; i = 0\n",
    "for row in data_reader:\n",
    "    if row[0] == \"Vgate\":\n",
    "        set_rows += [i]\n",
    "    i += 1\n",
    "print(\"Found\", len(set_rows), \"sets of data.\")\n",
    "data_file.close()"
   ]
  },
  {
   "cell_type": "code",
   "execution_count": 51,
   "metadata": {},
   "outputs": [],
   "source": [
    "def extract_data_set_vgs(file_name, start_row):\n",
    "    data_file   = open(file_name, 'r')\n",
    "    data_reader = csv.reader(data_file)\n",
    "    i = 0; vgs = []; vds = []; ids = []\n",
    "    for _ in range(start_row + 1): data_reader.__next__()\n",
    "    for row in data_reader:\n",
    "        try:\n",
    "            vgs += [int(row[0])]\n",
    "            vds += [int(row[1])]\n",
    "            ids += [float(row[2].replace('E', 'e'))]\n",
    "        except ValueError:\n",
    "            data_file.close()\n",
    "            return [vgs, vds, ids]"
   ]
  },
  {
   "cell_type": "code",
   "execution_count": 54,
   "metadata": {},
   "outputs": [
    {
     "name": "stdout",
     "output_type": "stream",
     "text": [
      "51\n"
     ]
    }
   ],
   "source": [
    "vgs, vds, ids = extract_data_set_vgs(file_name, set_rows[0])\n",
    "sweep_len = int(len(vds)/len(set(vds)))"
   ]
  }
 ],
 "metadata": {
  "kernelspec": {
   "display_name": "Python 3",
   "language": "python",
   "name": "python3"
  },
  "language_info": {
   "codemirror_mode": {
    "name": "ipython",
    "version": 3
   },
   "file_extension": ".py",
   "mimetype": "text/x-python",
   "name": "python",
   "nbconvert_exporter": "python",
   "pygments_lexer": "ipython3",
   "version": "3.6.5"
  }
 },
 "nbformat": 4,
 "nbformat_minor": 2
}
